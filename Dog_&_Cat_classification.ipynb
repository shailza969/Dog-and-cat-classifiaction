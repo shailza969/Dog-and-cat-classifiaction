{
  "nbformat": 4,
  "nbformat_minor": 0,
  "metadata": {
    "colab": {
      "name": "Dog & Cat classification.ipynb",
      "provenance": [],
      "collapsed_sections": [],
      "authorship_tag": "ABX9TyOHMDVHlvRiLqkIc/9kGxfg",
      "include_colab_link": true
    },
    "kernelspec": {
      "name": "python3",
      "display_name": "Python 3"
    },
    "language_info": {
      "name": "python"
    },
    "accelerator": "GPU"
  },
  "cells": [
    {
      "cell_type": "markdown",
      "metadata": {
        "id": "view-in-github",
        "colab_type": "text"
      },
      "source": [
        "<a href=\"https://colab.research.google.com/github/shailza969/Dog-and-cat-classifiaction/blob/main/Dog_%26_Cat_classification.ipynb\" target=\"_parent\"><img src=\"https://colab.research.google.com/assets/colab-badge.svg\" alt=\"Open In Colab\"/></a>"
      ]
    },
    {
      "cell_type": "code",
      "metadata": {
        "colab": {
          "resources": {
            "http://localhost:8080/nbextensions/google.colab/files.js": {
              "data": "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",
              "ok": true,
              "headers": [
                [
                  "content-type",
                  "application/javascript"
                ]
              ],
              "status": 200,
              "status_text": ""
            }
          },
          "base_uri": "https://localhost:8080/",
          "height": 89
        },
        "id": "s6s7yIOBSp6a",
        "outputId": "0eb19f16-9676-4f9b-fd6d-f4ccf44f9172"
      },
      "source": [
        "! pip install -q kaggle\n",
        "from google.colab import files\n",
        "files.upload()"
      ],
      "execution_count": null,
      "outputs": [
        {
          "output_type": "display_data",
          "data": {
            "text/html": [
              "\n",
              "     <input type=\"file\" id=\"files-364cddee-b233-4978-9328-a13988296906\" name=\"files[]\" multiple disabled\n",
              "        style=\"border:none\" />\n",
              "     <output id=\"result-364cddee-b233-4978-9328-a13988296906\">\n",
              "      Upload widget is only available when the cell has been executed in the\n",
              "      current browser session. Please rerun this cell to enable.\n",
              "      </output>\n",
              "      <script src=\"/nbextensions/google.colab/files.js\"></script> "
            ],
            "text/plain": [
              "<IPython.core.display.HTML object>"
            ]
          },
          "metadata": {
            "tags": []
          }
        },
        {
          "output_type": "stream",
          "text": [
            "Saving kaggle.json to kaggle.json\n"
          ],
          "name": "stdout"
        },
        {
          "output_type": "execute_result",
          "data": {
            "text/plain": [
              "{'kaggle.json': b'{\"username\":\"shailzabansal\",\"key\":\"1b2411f7858f8e80b31e0e2385161061\"}'}"
            ]
          },
          "metadata": {
            "tags": []
          },
          "execution_count": 1
        }
      ]
    },
    {
      "cell_type": "code",
      "metadata": {
        "id": "m_BZ81OMS22q"
      },
      "source": [
        "! mkdir ~/.kaggle\n",
        "! cp kaggle.json ~/.kaggle/"
      ],
      "execution_count": null,
      "outputs": []
    },
    {
      "cell_type": "code",
      "metadata": {
        "id": "KNP8pg5PTEoG"
      },
      "source": [
        "! chmod 600 ~/.kaggle/kaggle.json"
      ],
      "execution_count": null,
      "outputs": []
    },
    {
      "cell_type": "code",
      "metadata": {
        "colab": {
          "base_uri": "https://localhost:8080/"
        },
        "id": "FN1tlg-mTPHQ",
        "outputId": "0e308c6d-49aa-4607-f49a-f452e8f00f30"
      },
      "source": [
        "!kaggle datasets download -d chetankv/dogs-cats-images"
      ],
      "execution_count": null,
      "outputs": [
        {
          "output_type": "stream",
          "text": [
            "Downloading dogs-cats-images.zip to /content\n",
            " 98% 425M/435M [00:10<00:00, 31.2MB/s]\n",
            "100% 435M/435M [00:10<00:00, 44.6MB/s]\n"
          ],
          "name": "stdout"
        }
      ]
    },
    {
      "cell_type": "code",
      "metadata": {
        "id": "aEWC1aUgTTl9"
      },
      "source": [
        "! unzip /content/dogs-cats-images.zip\n",
        "import numpy as np\n",
        "import pandas as pd\n",
        "import matplotlib.pyplot as plt\n",
        "import os\n",
        "from keras.preprocessing import image\n",
        "from tqdm import tqdm"
      ],
      "execution_count": null,
      "outputs": []
    },
    {
      "cell_type": "code",
      "metadata": {
        "id": "jiCiDZ6m2o0H"
      },
      "source": [
        "path = '/content/dog vs cat/dataset'\n",
        "X_train = []\n",
        "y_train = []\n",
        "X_test = []\n",
        "y_test = []"
      ],
      "execution_count": null,
      "outputs": []
    },
    {
      "cell_type": "code",
      "metadata": {
        "id": "SOmaXyVU4SSt"
      },
      "source": [
        "def prep_train (path, label):\n",
        "  img = image.load_img(path, target_size = (100,100))\n",
        "  img = image.img_to_array(img)\n",
        "  X_train.append(img)\n",
        "  y_train.append(label)"
      ],
      "execution_count": null,
      "outputs": []
    },
    {
      "cell_type": "code",
      "metadata": {
        "id": "1GSv-nLH7KYh"
      },
      "source": [
        "def prep_test (path, label):\n",
        "  img = image.load_img(path, target_size = (100,100))\n",
        "  img = image.img_to_array(img)\n",
        "  X_test.append(img)\n",
        "  y_test.append(label)"
      ],
      "execution_count": null,
      "outputs": []
    },
    {
      "cell_type": "code",
      "metadata": {
        "id": "TOVBi4H32s7I"
      },
      "source": [
        "#/content/dog vs cat/dataset/training_set\n",
        "for folder in os.listdir(path):\n",
        "  for fol in os.listdir(path+'/'+folder):\n",
        "    if (folder == 'training_set'):\n",
        "      for img in os.listdir(path+'/'+folder+'/'+ fol):\n",
        "        prep_train(path+'/'+folder+'/'+ fol+'/'+img, fol)\n",
        "    else:\n",
        "      for img in os.listdir(path+'/'+folder+'/'+ fol):\n",
        "        prep_test(path+'/'+folder+'/'+ fol+'/'+img, fol)"
      ],
      "execution_count": null,
      "outputs": []
    },
    {
      "cell_type": "code",
      "metadata": {
        "colab": {
          "base_uri": "https://localhost:8080/"
        },
        "id": "y_AyU9Vl3XNv",
        "outputId": "8517fd3f-6a6f-427b-f3ee-9743089000db"
      },
      "source": [
        "len(X_train), len(y_train), len(X_test), len(y_test)"
      ],
      "execution_count": null,
      "outputs": [
        {
          "output_type": "execute_result",
          "data": {
            "text/plain": [
              "(8000, 8000, 2000, 2000)"
            ]
          },
          "metadata": {
            "tags": []
          },
          "execution_count": 50
        }
      ]
    },
    {
      "cell_type": "code",
      "metadata": {
        "id": "WgW6xQr257_C"
      },
      "source": [
        "X_train = np.array(X_train)\n",
        "y_train = np.array(y_train)\n",
        "X_test = np.array(X_test)\n",
        "y_test = np.array(y_test)\n"
      ],
      "execution_count": null,
      "outputs": []
    },
    {
      "cell_type": "code",
      "metadata": {
        "colab": {
          "base_uri": "https://localhost:8080/"
        },
        "id": "OugW_Uw86T-o",
        "outputId": "9c7aa15f-122a-4a6b-8057-5afebd7e23dc"
      },
      "source": [
        "X_train.shape, y_train.shape"
      ],
      "execution_count": null,
      "outputs": [
        {
          "output_type": "execute_result",
          "data": {
            "text/plain": [
              "((8000, 100, 100, 3), (8000,))"
            ]
          },
          "metadata": {
            "tags": []
          },
          "execution_count": 52
        }
      ]
    },
    {
      "cell_type": "code",
      "metadata": {
        "id": "zSUO0dy-6c-9"
      },
      "source": [
        "from sklearn.preprocessing import LabelEncoder\n",
        "le_y = LabelEncoder()"
      ],
      "execution_count": null,
      "outputs": []
    },
    {
      "cell_type": "code",
      "metadata": {
        "id": "X4GaqGdP6xBE"
      },
      "source": [
        "y_train = le_y.fit_transform(y_train)\n",
        "y_test = le_y.transform(y_test)"
      ],
      "execution_count": null,
      "outputs": []
    },
    {
      "cell_type": "code",
      "metadata": {
        "colab": {
          "base_uri": "https://localhost:8080/"
        },
        "id": "x8p6T4EU9GKj",
        "outputId": "934482a1-cb00-4825-bcef-c2017c8240a6"
      },
      "source": [
        "y_train[:10]\n",
        "le_y.classes_"
      ],
      "execution_count": null,
      "outputs": [
        {
          "output_type": "execute_result",
          "data": {
            "text/plain": [
              "array(['cats', 'dogs'], dtype='<U4')"
            ]
          },
          "metadata": {
            "tags": []
          },
          "execution_count": 55
        }
      ]
    },
    {
      "cell_type": "markdown",
      "metadata": {
        "id": "yjTV5MCM9SPW"
      },
      "source": [
        "# NN"
      ]
    },
    {
      "cell_type": "code",
      "metadata": {
        "id": "Kpb-lWPz9H0y"
      },
      "source": [
        "from keras.models import Sequential\n",
        "from keras.layers import Conv2D, MaxPool2D, Dense, Dropout, Flatten"
      ],
      "execution_count": null,
      "outputs": []
    },
    {
      "cell_type": "code",
      "metadata": {
        "id": "6p06vN4n9QwG"
      },
      "source": [
        "clf = Sequential()"
      ],
      "execution_count": null,
      "outputs": []
    },
    {
      "cell_type": "code",
      "metadata": {
        "id": "s-TSckFx9mvS"
      },
      "source": [
        "clf.add(Conv2D(32, (3,3), strides=(2,2), activation='relu', input_shape = (100,100,3)))\n",
        "clf.add(Conv2D(32, (4,4), strides=(2,2), activation='relu'))\n",
        "clf.add(MaxPool2D(pool_size=(2,2)))\n",
        "clf.add(Dropout(rate = 0.2))"
      ],
      "execution_count": null,
      "outputs": []
    },
    {
      "cell_type": "code",
      "metadata": {
        "id": "yUWrs4nh-s5x"
      },
      "source": [
        "clf.add(Conv2D(32, (3,3),strides=(2,2), activation='relu'))\n",
        "clf.add(Conv2D(32, (2,2), strides=(2,2), activation='relu'))\n",
        "clf.add(MaxPool2D(pool_size=(2,2)))\n",
        "clf.add(Dropout(rate = 0.2))"
      ],
      "execution_count": null,
      "outputs": []
    },
    {
      "cell_type": "code",
      "metadata": {
        "id": "sC-IKn8x-9b9"
      },
      "source": [
        "clf.add(Flatten())"
      ],
      "execution_count": null,
      "outputs": []
    },
    {
      "cell_type": "code",
      "metadata": {
        "id": "CI-TqTbc_DuY"
      },
      "source": [
        "clf.add(Dense(64, activation='relu'))\n",
        "clf.add(Dense(1, activation ='sigmoid'))"
      ],
      "execution_count": null,
      "outputs": []
    },
    {
      "cell_type": "code",
      "metadata": {
        "id": "9K4d-WGeCELl"
      },
      "source": [
        "clf.compile(optimizer='adam', loss = 'binary_crossentropy', metrics = ['accuracy'])"
      ],
      "execution_count": null,
      "outputs": []
    },
    {
      "cell_type": "code",
      "metadata": {
        "colab": {
          "base_uri": "https://localhost:8080/"
        },
        "id": "LZUHc4iBCOIi",
        "outputId": "64f0796f-a555-4de1-f73f-2442a52e73eb"
      },
      "source": [
        "clf.summary()"
      ],
      "execution_count": null,
      "outputs": [
        {
          "output_type": "stream",
          "text": [
            "Model: \"sequential_8\"\n",
            "_________________________________________________________________\n",
            "Layer (type)                 Output Shape              Param #   \n",
            "=================================================================\n",
            "conv2d_32 (Conv2D)           (None, 49, 49, 32)        896       \n",
            "_________________________________________________________________\n",
            "conv2d_33 (Conv2D)           (None, 23, 23, 32)        16416     \n",
            "_________________________________________________________________\n",
            "max_pooling2d_16 (MaxPooling (None, 11, 11, 32)        0         \n",
            "_________________________________________________________________\n",
            "dropout_11 (Dropout)         (None, 11, 11, 32)        0         \n",
            "_________________________________________________________________\n",
            "conv2d_34 (Conv2D)           (None, 5, 5, 32)          9248      \n",
            "_________________________________________________________________\n",
            "conv2d_35 (Conv2D)           (None, 2, 2, 32)          4128      \n",
            "_________________________________________________________________\n",
            "max_pooling2d_17 (MaxPooling (None, 1, 1, 32)          0         \n",
            "_________________________________________________________________\n",
            "dropout_12 (Dropout)         (None, 1, 1, 32)          0         \n",
            "_________________________________________________________________\n",
            "flatten_2 (Flatten)          (None, 32)                0         \n",
            "_________________________________________________________________\n",
            "dense_4 (Dense)              (None, 64)                2112      \n",
            "_________________________________________________________________\n",
            "dense_5 (Dense)              (None, 1)                 65        \n",
            "=================================================================\n",
            "Total params: 32,865\n",
            "Trainable params: 32,865\n",
            "Non-trainable params: 0\n",
            "_________________________________________________________________\n"
          ],
          "name": "stdout"
        }
      ]
    },
    {
      "cell_type": "code",
      "metadata": {
        "colab": {
          "base_uri": "https://localhost:8080/"
        },
        "id": "xe0VVzg3CQN7",
        "outputId": "c03d0d87-dbdc-4d46-a528-a598a0437876"
      },
      "source": [
        "clf.fit(X_train, y_train, batch_size= 128, epochs=50, validation_split = 0.2)"
      ],
      "execution_count": null,
      "outputs": [
        {
          "output_type": "stream",
          "text": [
            "Epoch 1/50\n",
            "50/50 [==============================] - 1s 24ms/step - loss: 0.1825 - accuracy: 0.9309 - val_loss: 1.8093 - val_accuracy: 0.4900\n",
            "Epoch 2/50\n",
            "50/50 [==============================] - 1s 21ms/step - loss: 0.1359 - accuracy: 0.9513 - val_loss: 2.0164 - val_accuracy: 0.4825\n",
            "Epoch 3/50\n",
            "50/50 [==============================] - 1s 21ms/step - loss: 0.1500 - accuracy: 0.9448 - val_loss: 1.8681 - val_accuracy: 0.5312\n",
            "Epoch 4/50\n",
            "50/50 [==============================] - 1s 20ms/step - loss: 0.1576 - accuracy: 0.9403 - val_loss: 2.4801 - val_accuracy: 0.4319\n",
            "Epoch 5/50\n",
            "50/50 [==============================] - 1s 21ms/step - loss: 0.1403 - accuracy: 0.9477 - val_loss: 2.3407 - val_accuracy: 0.4375\n",
            "Epoch 6/50\n",
            "50/50 [==============================] - 1s 21ms/step - loss: 0.1287 - accuracy: 0.9495 - val_loss: 2.7708 - val_accuracy: 0.4462\n",
            "Epoch 7/50\n",
            "50/50 [==============================] - 1s 21ms/step - loss: 0.1336 - accuracy: 0.9495 - val_loss: 2.6257 - val_accuracy: 0.4313\n",
            "Epoch 8/50\n",
            "50/50 [==============================] - 1s 21ms/step - loss: 0.1292 - accuracy: 0.9491 - val_loss: 2.8085 - val_accuracy: 0.4150\n",
            "Epoch 9/50\n",
            "50/50 [==============================] - 1s 21ms/step - loss: 0.1447 - accuracy: 0.9469 - val_loss: 2.2545 - val_accuracy: 0.4888\n",
            "Epoch 10/50\n",
            "50/50 [==============================] - 1s 21ms/step - loss: 0.1449 - accuracy: 0.9464 - val_loss: 2.0933 - val_accuracy: 0.5113\n",
            "Epoch 11/50\n",
            "50/50 [==============================] - 1s 20ms/step - loss: 0.1340 - accuracy: 0.9480 - val_loss: 2.2239 - val_accuracy: 0.4750\n",
            "Epoch 12/50\n",
            "50/50 [==============================] - 1s 21ms/step - loss: 0.1272 - accuracy: 0.9558 - val_loss: 2.1619 - val_accuracy: 0.4844\n",
            "Epoch 13/50\n",
            "50/50 [==============================] - 1s 21ms/step - loss: 0.1340 - accuracy: 0.9519 - val_loss: 2.6431 - val_accuracy: 0.4106\n",
            "Epoch 14/50\n",
            "50/50 [==============================] - 1s 21ms/step - loss: 0.1273 - accuracy: 0.9528 - val_loss: 3.1748 - val_accuracy: 0.4006\n",
            "Epoch 15/50\n",
            "50/50 [==============================] - 1s 21ms/step - loss: 0.1408 - accuracy: 0.9484 - val_loss: 2.3744 - val_accuracy: 0.4519\n",
            "Epoch 16/50\n",
            "50/50 [==============================] - 1s 21ms/step - loss: 0.1344 - accuracy: 0.9478 - val_loss: 2.2066 - val_accuracy: 0.4869\n",
            "Epoch 17/50\n",
            "50/50 [==============================] - 1s 21ms/step - loss: 0.1257 - accuracy: 0.9547 - val_loss: 2.2633 - val_accuracy: 0.4656\n",
            "Epoch 18/50\n",
            "50/50 [==============================] - 1s 21ms/step - loss: 0.1357 - accuracy: 0.9491 - val_loss: 2.4355 - val_accuracy: 0.4437\n",
            "Epoch 19/50\n",
            "50/50 [==============================] - 1s 20ms/step - loss: 0.1336 - accuracy: 0.9495 - val_loss: 2.8382 - val_accuracy: 0.3350\n",
            "Epoch 20/50\n",
            "50/50 [==============================] - 1s 20ms/step - loss: 0.1333 - accuracy: 0.9473 - val_loss: 2.6064 - val_accuracy: 0.4263\n",
            "Epoch 21/50\n",
            "50/50 [==============================] - 1s 20ms/step - loss: 0.1275 - accuracy: 0.9514 - val_loss: 2.7035 - val_accuracy: 0.4419\n",
            "Epoch 22/50\n",
            "50/50 [==============================] - 1s 21ms/step - loss: 0.1290 - accuracy: 0.9545 - val_loss: 2.0888 - val_accuracy: 0.4888\n",
            "Epoch 23/50\n",
            "50/50 [==============================] - 1s 21ms/step - loss: 0.1306 - accuracy: 0.9536 - val_loss: 2.5383 - val_accuracy: 0.4081\n",
            "Epoch 24/50\n",
            "50/50 [==============================] - 1s 20ms/step - loss: 0.1316 - accuracy: 0.9486 - val_loss: 2.4074 - val_accuracy: 0.4487\n",
            "Epoch 25/50\n",
            "50/50 [==============================] - 1s 21ms/step - loss: 0.1327 - accuracy: 0.9498 - val_loss: 2.4585 - val_accuracy: 0.4387\n",
            "Epoch 26/50\n",
            "50/50 [==============================] - 1s 21ms/step - loss: 0.1293 - accuracy: 0.9545 - val_loss: 2.7191 - val_accuracy: 0.3887\n",
            "Epoch 27/50\n",
            "50/50 [==============================] - 1s 21ms/step - loss: 0.1215 - accuracy: 0.9548 - val_loss: 2.8132 - val_accuracy: 0.4156\n",
            "Epoch 28/50\n",
            "50/50 [==============================] - 1s 21ms/step - loss: 0.1208 - accuracy: 0.9553 - val_loss: 2.3920 - val_accuracy: 0.4269\n",
            "Epoch 29/50\n",
            "50/50 [==============================] - 1s 22ms/step - loss: 0.1166 - accuracy: 0.9567 - val_loss: 2.7223 - val_accuracy: 0.4594\n",
            "Epoch 30/50\n",
            "50/50 [==============================] - 1s 21ms/step - loss: 0.1138 - accuracy: 0.9570 - val_loss: 2.9719 - val_accuracy: 0.4344\n",
            "Epoch 31/50\n",
            "50/50 [==============================] - 1s 21ms/step - loss: 0.1199 - accuracy: 0.9583 - val_loss: 2.4165 - val_accuracy: 0.4319\n",
            "Epoch 32/50\n",
            "50/50 [==============================] - 1s 21ms/step - loss: 0.1186 - accuracy: 0.9558 - val_loss: 2.7813 - val_accuracy: 0.4425\n",
            "Epoch 33/50\n",
            "50/50 [==============================] - 1s 22ms/step - loss: 0.1139 - accuracy: 0.9573 - val_loss: 3.1520 - val_accuracy: 0.4187\n",
            "Epoch 34/50\n",
            "50/50 [==============================] - 1s 22ms/step - loss: 0.1290 - accuracy: 0.9552 - val_loss: 1.9449 - val_accuracy: 0.5263\n",
            "Epoch 35/50\n",
            "50/50 [==============================] - 1s 21ms/step - loss: 0.1342 - accuracy: 0.9505 - val_loss: 2.4519 - val_accuracy: 0.4231\n",
            "Epoch 36/50\n",
            "50/50 [==============================] - 1s 21ms/step - loss: 0.1052 - accuracy: 0.9605 - val_loss: 3.2424 - val_accuracy: 0.4313\n",
            "Epoch 37/50\n",
            "50/50 [==============================] - 1s 21ms/step - loss: 0.1203 - accuracy: 0.9547 - val_loss: 2.2434 - val_accuracy: 0.5056\n",
            "Epoch 38/50\n",
            "50/50 [==============================] - 1s 21ms/step - loss: 0.1338 - accuracy: 0.9514 - val_loss: 2.4504 - val_accuracy: 0.4288\n",
            "Epoch 39/50\n",
            "50/50 [==============================] - 1s 21ms/step - loss: 0.1264 - accuracy: 0.9503 - val_loss: 2.3500 - val_accuracy: 0.4731\n",
            "Epoch 40/50\n",
            "50/50 [==============================] - 1s 21ms/step - loss: 0.1350 - accuracy: 0.9488 - val_loss: 2.3146 - val_accuracy: 0.4794\n",
            "Epoch 41/50\n",
            "50/50 [==============================] - 1s 21ms/step - loss: 0.1296 - accuracy: 0.9519 - val_loss: 2.7153 - val_accuracy: 0.3769\n",
            "Epoch 42/50\n",
            "50/50 [==============================] - 1s 21ms/step - loss: 0.1199 - accuracy: 0.9580 - val_loss: 2.4387 - val_accuracy: 0.4419\n",
            "Epoch 43/50\n",
            "50/50 [==============================] - 1s 21ms/step - loss: 0.1082 - accuracy: 0.9606 - val_loss: 2.9343 - val_accuracy: 0.4275\n",
            "Epoch 44/50\n",
            "50/50 [==============================] - 1s 21ms/step - loss: 0.1056 - accuracy: 0.9613 - val_loss: 2.9255 - val_accuracy: 0.4225\n",
            "Epoch 45/50\n",
            "50/50 [==============================] - 1s 21ms/step - loss: 0.1080 - accuracy: 0.9603 - val_loss: 2.6722 - val_accuracy: 0.4519\n",
            "Epoch 46/50\n",
            "50/50 [==============================] - 1s 20ms/step - loss: 0.1096 - accuracy: 0.9592 - val_loss: 2.7895 - val_accuracy: 0.4556\n",
            "Epoch 47/50\n",
            "50/50 [==============================] - 1s 21ms/step - loss: 0.1161 - accuracy: 0.9569 - val_loss: 2.5026 - val_accuracy: 0.4744\n",
            "Epoch 48/50\n",
            "50/50 [==============================] - 1s 20ms/step - loss: 0.1051 - accuracy: 0.9606 - val_loss: 2.7526 - val_accuracy: 0.4663\n",
            "Epoch 49/50\n",
            "50/50 [==============================] - 1s 21ms/step - loss: 0.1175 - accuracy: 0.9602 - val_loss: 2.2733 - val_accuracy: 0.4712\n",
            "Epoch 50/50\n",
            "50/50 [==============================] - 1s 21ms/step - loss: 0.1189 - accuracy: 0.9566 - val_loss: 2.4973 - val_accuracy: 0.4563\n"
          ],
          "name": "stdout"
        },
        {
          "output_type": "execute_result",
          "data": {
            "text/plain": [
              "<keras.callbacks.History at 0x7f763c714290>"
            ]
          },
          "metadata": {
            "tags": []
          },
          "execution_count": 90
        }
      ]
    },
    {
      "cell_type": "code",
      "metadata": {
        "id": "hrSXQ7CCCa11"
      },
      "source": [
        "y_pred = clf.predict(X_test)"
      ],
      "execution_count": null,
      "outputs": []
    },
    {
      "cell_type": "code",
      "metadata": {
        "colab": {
          "base_uri": "https://localhost:8080/"
        },
        "id": "o5R8dVoKyA7i",
        "outputId": "ed02a3c2-26eb-4fc3-9b6a-80066b7fc12e"
      },
      "source": [
        "clf.evaluate(X_test, y_test)"
      ],
      "execution_count": null,
      "outputs": [
        {
          "output_type": "stream",
          "text": [
            "63/63 [==============================] - 0s 4ms/step - loss: 1.5121 - accuracy: 0.6430\n"
          ],
          "name": "stdout"
        },
        {
          "output_type": "execute_result",
          "data": {
            "text/plain": [
              "[1.5121039152145386, 0.6430000066757202]"
            ]
          },
          "metadata": {
            "tags": []
          },
          "execution_count": 91
        }
      ]
    },
    {
      "cell_type": "code",
      "metadata": {
        "id": "E04I1dbKyJyx"
      },
      "source": [
        ""
      ],
      "execution_count": null,
      "outputs": []
    }
  ]
}